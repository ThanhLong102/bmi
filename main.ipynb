{
 "cells": [
  {
   "cell_type": "code",
   "execution_count": 30,
   "metadata": {
    "collapsed": true
   },
   "outputs": [],
   "source": [
    "import pandas as pd\n",
    "import numpy as np\n",
    "from pycaret.regression import *\n",
    "from sklearn.preprocessing import LabelEncoder\n",
    "from sklearn.model_selection import train_test_split\n",
    "from sklearn.metrics import r2_score\n",
    "from sklearn.ensemble import ExtraTreesRegressor"
   ]
  },
  {
   "cell_type": "code",
   "execution_count": 31,
   "outputs": [],
   "source": [
    "df = pd.read_csv(\"./bmi_data.csv\")"
   ],
   "metadata": {
    "collapsed": false
   }
  },
  {
   "cell_type": "code",
   "execution_count": 32,
   "outputs": [
    {
     "data": {
      "text/plain": "          Sex  Age  Height(Inches)  Weight(Pounds)        BMI\n0      Female   21        65.78331        112.9925  18.357646\n1      Female   35        71.51521        136.4873  18.762652\n2      Female   27        69.39874        153.0269  22.338985\n3        Male   24        68.21660        142.3354  21.504612\n4      Female   18        67.78781        144.2971  22.077669\n...       ...  ...             ...             ...        ...\n24995    Male   35        69.50215        118.0312  17.179051\n24996    Male   26        64.54826        120.1932  20.281947\n24997  Female   23        64.69855        118.2655  19.864050\n24998    Male   20        67.52918        132.2682  20.392540\n24999  Female   34        68.87761        124.8742  18.506121\n\n[25000 rows x 5 columns]",
      "text/html": "<div>\n<style scoped>\n    .dataframe tbody tr th:only-of-type {\n        vertical-align: middle;\n    }\n\n    .dataframe tbody tr th {\n        vertical-align: top;\n    }\n\n    .dataframe thead th {\n        text-align: right;\n    }\n</style>\n<table border=\"1\" class=\"dataframe\">\n  <thead>\n    <tr style=\"text-align: right;\">\n      <th></th>\n      <th>Sex</th>\n      <th>Age</th>\n      <th>Height(Inches)</th>\n      <th>Weight(Pounds)</th>\n      <th>BMI</th>\n    </tr>\n  </thead>\n  <tbody>\n    <tr>\n      <th>0</th>\n      <td>Female</td>\n      <td>21</td>\n      <td>65.78331</td>\n      <td>112.9925</td>\n      <td>18.357646</td>\n    </tr>\n    <tr>\n      <th>1</th>\n      <td>Female</td>\n      <td>35</td>\n      <td>71.51521</td>\n      <td>136.4873</td>\n      <td>18.762652</td>\n    </tr>\n    <tr>\n      <th>2</th>\n      <td>Female</td>\n      <td>27</td>\n      <td>69.39874</td>\n      <td>153.0269</td>\n      <td>22.338985</td>\n    </tr>\n    <tr>\n      <th>3</th>\n      <td>Male</td>\n      <td>24</td>\n      <td>68.21660</td>\n      <td>142.3354</td>\n      <td>21.504612</td>\n    </tr>\n    <tr>\n      <th>4</th>\n      <td>Female</td>\n      <td>18</td>\n      <td>67.78781</td>\n      <td>144.2971</td>\n      <td>22.077669</td>\n    </tr>\n    <tr>\n      <th>...</th>\n      <td>...</td>\n      <td>...</td>\n      <td>...</td>\n      <td>...</td>\n      <td>...</td>\n    </tr>\n    <tr>\n      <th>24995</th>\n      <td>Male</td>\n      <td>35</td>\n      <td>69.50215</td>\n      <td>118.0312</td>\n      <td>17.179051</td>\n    </tr>\n    <tr>\n      <th>24996</th>\n      <td>Male</td>\n      <td>26</td>\n      <td>64.54826</td>\n      <td>120.1932</td>\n      <td>20.281947</td>\n    </tr>\n    <tr>\n      <th>24997</th>\n      <td>Female</td>\n      <td>23</td>\n      <td>64.69855</td>\n      <td>118.2655</td>\n      <td>19.864050</td>\n    </tr>\n    <tr>\n      <th>24998</th>\n      <td>Male</td>\n      <td>20</td>\n      <td>67.52918</td>\n      <td>132.2682</td>\n      <td>20.392540</td>\n    </tr>\n    <tr>\n      <th>24999</th>\n      <td>Female</td>\n      <td>34</td>\n      <td>68.87761</td>\n      <td>124.8742</td>\n      <td>18.506121</td>\n    </tr>\n  </tbody>\n</table>\n<p>25000 rows × 5 columns</p>\n</div>"
     },
     "execution_count": 32,
     "metadata": {},
     "output_type": "execute_result"
    }
   ],
   "source": [
    "df"
   ],
   "metadata": {
    "collapsed": false
   }
  },
  {
   "cell_type": "code",
   "execution_count": 33,
   "outputs": [
    {
     "data": {
      "text/plain": "Sex                0\nAge                0\nHeight(Inches)    19\nWeight(Pounds)    16\nBMI               50\ndtype: int64"
     },
     "execution_count": 33,
     "metadata": {},
     "output_type": "execute_result"
    }
   ],
   "source": [
    "df.isnull().sum()"
   ],
   "metadata": {
    "collapsed": false
   }
  },
  {
   "cell_type": "code",
   "execution_count": 34,
   "outputs": [],
   "source": [
    "df = df.dropna()\n",
    "df.reset_index(inplace=True,drop=True)"
   ],
   "metadata": {
    "collapsed": false
   }
  },
  {
   "cell_type": "code",
   "execution_count": 35,
   "outputs": [
    {
     "name": "stdout",
     "output_type": "stream",
     "text": [
      "<class 'pandas.core.frame.DataFrame'>\n",
      "RangeIndex: 24950 entries, 0 to 24949\n",
      "Data columns (total 5 columns):\n",
      " #   Column          Non-Null Count  Dtype  \n",
      "---  ------          --------------  -----  \n",
      " 0   Sex             24950 non-null  object \n",
      " 1   Age             24950 non-null  int64  \n",
      " 2   Height(Inches)  24950 non-null  float64\n",
      " 3   Weight(Pounds)  24950 non-null  float64\n",
      " 4   BMI             24950 non-null  float64\n",
      "dtypes: float64(3), int64(1), object(1)\n",
      "memory usage: 974.7+ KB\n"
     ]
    }
   ],
   "source": [
    "df.info()"
   ],
   "metadata": {
    "collapsed": false
   }
  },
  {
   "cell_type": "code",
   "execution_count": 36,
   "outputs": [
    {
     "data": {
      "text/plain": "       Sex  Age  Height(Inches)  Weight(Pounds)        BMI\n0        0   21        65.78331        112.9925  18.357646\n1        0   35        71.51521        136.4873  18.762652\n2        0   27        69.39874        153.0269  22.338985\n3        1   24        68.21660        142.3354  21.504612\n4        0   18        67.78781        144.2971  22.077669\n...    ...  ...             ...             ...        ...\n24945    1   35        69.50215        118.0312  17.179051\n24946    1   26        64.54826        120.1932  20.281947\n24947    0   23        64.69855        118.2655  19.864050\n24948    1   20        67.52918        132.2682  20.392540\n24949    0   34        68.87761        124.8742  18.506121\n\n[24950 rows x 5 columns]",
      "text/html": "<div>\n<style scoped>\n    .dataframe tbody tr th:only-of-type {\n        vertical-align: middle;\n    }\n\n    .dataframe tbody tr th {\n        vertical-align: top;\n    }\n\n    .dataframe thead th {\n        text-align: right;\n    }\n</style>\n<table border=\"1\" class=\"dataframe\">\n  <thead>\n    <tr style=\"text-align: right;\">\n      <th></th>\n      <th>Sex</th>\n      <th>Age</th>\n      <th>Height(Inches)</th>\n      <th>Weight(Pounds)</th>\n      <th>BMI</th>\n    </tr>\n  </thead>\n  <tbody>\n    <tr>\n      <th>0</th>\n      <td>0</td>\n      <td>21</td>\n      <td>65.78331</td>\n      <td>112.9925</td>\n      <td>18.357646</td>\n    </tr>\n    <tr>\n      <th>1</th>\n      <td>0</td>\n      <td>35</td>\n      <td>71.51521</td>\n      <td>136.4873</td>\n      <td>18.762652</td>\n    </tr>\n    <tr>\n      <th>2</th>\n      <td>0</td>\n      <td>27</td>\n      <td>69.39874</td>\n      <td>153.0269</td>\n      <td>22.338985</td>\n    </tr>\n    <tr>\n      <th>3</th>\n      <td>1</td>\n      <td>24</td>\n      <td>68.21660</td>\n      <td>142.3354</td>\n      <td>21.504612</td>\n    </tr>\n    <tr>\n      <th>4</th>\n      <td>0</td>\n      <td>18</td>\n      <td>67.78781</td>\n      <td>144.2971</td>\n      <td>22.077669</td>\n    </tr>\n    <tr>\n      <th>...</th>\n      <td>...</td>\n      <td>...</td>\n      <td>...</td>\n      <td>...</td>\n      <td>...</td>\n    </tr>\n    <tr>\n      <th>24945</th>\n      <td>1</td>\n      <td>35</td>\n      <td>69.50215</td>\n      <td>118.0312</td>\n      <td>17.179051</td>\n    </tr>\n    <tr>\n      <th>24946</th>\n      <td>1</td>\n      <td>26</td>\n      <td>64.54826</td>\n      <td>120.1932</td>\n      <td>20.281947</td>\n    </tr>\n    <tr>\n      <th>24947</th>\n      <td>0</td>\n      <td>23</td>\n      <td>64.69855</td>\n      <td>118.2655</td>\n      <td>19.864050</td>\n    </tr>\n    <tr>\n      <th>24948</th>\n      <td>1</td>\n      <td>20</td>\n      <td>67.52918</td>\n      <td>132.2682</td>\n      <td>20.392540</td>\n    </tr>\n    <tr>\n      <th>24949</th>\n      <td>0</td>\n      <td>34</td>\n      <td>68.87761</td>\n      <td>124.8742</td>\n      <td>18.506121</td>\n    </tr>\n  </tbody>\n</table>\n<p>24950 rows × 5 columns</p>\n</div>"
     },
     "execution_count": 36,
     "metadata": {},
     "output_type": "execute_result"
    }
   ],
   "source": [
    "# Apply label encoder to each column with categorical data\n",
    "label_encoder = LabelEncoder()\n",
    "t = (df.dtypes == \"object\")\n",
    "object_cols = list(t[t].index)\n",
    "\n",
    "for i in object_cols:\n",
    "    df[i] = label_encoder.fit_transform(df[i])\n",
    "df"
   ],
   "metadata": {
    "collapsed": false
   }
  },
  {
   "cell_type": "code",
   "execution_count": 37,
   "outputs": [],
   "source": [
    "df[\"Height(Inches)\"] = df[\"Height(Inches)\"].apply(lambda hei:hei*2.54)\n",
    "df[\"Weight(Pounds)\"] = df[\"Weight(Pounds)\"].apply(lambda wei:wei/2.205)"
   ],
   "metadata": {
    "collapsed": false
   }
  },
  {
   "cell_type": "code",
   "execution_count": 38,
   "outputs": [
    {
     "data": {
      "text/plain": "       Sex  Age      Height     Weight        BMI\n0        0   21  167.089607  51.243764  18.357646\n1        0   35  181.648633  61.899002  18.762652\n2        0   27  176.272800  69.399955  22.338985\n3        1   24  173.270164  64.551202  21.504612\n4        0   18  172.181037  65.440862  22.077669\n...    ...  ...         ...        ...        ...\n24945    1   35  176.535461  53.528889  17.179051\n24946    1   26  163.952580  54.509388  20.281947\n24947    0   23  164.334317  53.635147  19.864050\n24948    1   20  171.524117  59.985578  20.392540\n24949    0   34  174.949129  56.632290  18.506121\n\n[24950 rows x 5 columns]",
      "text/html": "<div>\n<style scoped>\n    .dataframe tbody tr th:only-of-type {\n        vertical-align: middle;\n    }\n\n    .dataframe tbody tr th {\n        vertical-align: top;\n    }\n\n    .dataframe thead th {\n        text-align: right;\n    }\n</style>\n<table border=\"1\" class=\"dataframe\">\n  <thead>\n    <tr style=\"text-align: right;\">\n      <th></th>\n      <th>Sex</th>\n      <th>Age</th>\n      <th>Height</th>\n      <th>Weight</th>\n      <th>BMI</th>\n    </tr>\n  </thead>\n  <tbody>\n    <tr>\n      <th>0</th>\n      <td>0</td>\n      <td>21</td>\n      <td>167.089607</td>\n      <td>51.243764</td>\n      <td>18.357646</td>\n    </tr>\n    <tr>\n      <th>1</th>\n      <td>0</td>\n      <td>35</td>\n      <td>181.648633</td>\n      <td>61.899002</td>\n      <td>18.762652</td>\n    </tr>\n    <tr>\n      <th>2</th>\n      <td>0</td>\n      <td>27</td>\n      <td>176.272800</td>\n      <td>69.399955</td>\n      <td>22.338985</td>\n    </tr>\n    <tr>\n      <th>3</th>\n      <td>1</td>\n      <td>24</td>\n      <td>173.270164</td>\n      <td>64.551202</td>\n      <td>21.504612</td>\n    </tr>\n    <tr>\n      <th>4</th>\n      <td>0</td>\n      <td>18</td>\n      <td>172.181037</td>\n      <td>65.440862</td>\n      <td>22.077669</td>\n    </tr>\n    <tr>\n      <th>...</th>\n      <td>...</td>\n      <td>...</td>\n      <td>...</td>\n      <td>...</td>\n      <td>...</td>\n    </tr>\n    <tr>\n      <th>24945</th>\n      <td>1</td>\n      <td>35</td>\n      <td>176.535461</td>\n      <td>53.528889</td>\n      <td>17.179051</td>\n    </tr>\n    <tr>\n      <th>24946</th>\n      <td>1</td>\n      <td>26</td>\n      <td>163.952580</td>\n      <td>54.509388</td>\n      <td>20.281947</td>\n    </tr>\n    <tr>\n      <th>24947</th>\n      <td>0</td>\n      <td>23</td>\n      <td>164.334317</td>\n      <td>53.635147</td>\n      <td>19.864050</td>\n    </tr>\n    <tr>\n      <th>24948</th>\n      <td>1</td>\n      <td>20</td>\n      <td>171.524117</td>\n      <td>59.985578</td>\n      <td>20.392540</td>\n    </tr>\n    <tr>\n      <th>24949</th>\n      <td>0</td>\n      <td>34</td>\n      <td>174.949129</td>\n      <td>56.632290</td>\n      <td>18.506121</td>\n    </tr>\n  </tbody>\n</table>\n<p>24950 rows × 5 columns</p>\n</div>"
     },
     "execution_count": 38,
     "metadata": {},
     "output_type": "execute_result"
    }
   ],
   "source": [
    "df.rename(columns = {\"Height(Inches)\":\"Height\",\"Weight(Pounds)\":\"Weight\"},inplace = True)\n",
    "df"
   ],
   "metadata": {
    "collapsed": false
   }
  },
  {
   "cell_type": "code",
   "execution_count": 39,
   "outputs": [],
   "source": [
    "X = df.drop(\"BMI\",axis = 1)\n",
    "Y = df[\"BMI\"]"
   ],
   "metadata": {
    "collapsed": false
   }
  },
  {
   "cell_type": "code",
   "execution_count": 40,
   "outputs": [],
   "source": [
    "X_train,X_test,Y_train,Y_test = train_test_split(X,Y,random_state=27,test_size = 0.2)"
   ],
   "metadata": {
    "collapsed": false
   }
  },
  {
   "cell_type": "code",
   "execution_count": 41,
   "outputs": [
    {
     "data": {
      "text/plain": "ExtraTreesRegressor(bootstrap=False, ccp_alpha=0.0, criterion='squared_error',\n                    max_depth=None, max_features=1.0, max_leaf_nodes=None,\n                    max_samples=None, min_impurity_decrease=0.0,\n                    min_samples_leaf=1, min_samples_split=2,\n                    min_weight_fraction_leaf=0.0, n_estimators=100, n_jobs=None,\n                    oob_score=False, random_state=None, verbose=0,\n                    warm_start=False)",
      "text/html": "<style>#sk-container-id-2 {color: black;background-color: white;}#sk-container-id-2 pre{padding: 0;}#sk-container-id-2 div.sk-toggleable {background-color: white;}#sk-container-id-2 label.sk-toggleable__label {cursor: pointer;display: block;width: 100%;margin-bottom: 0;padding: 0.3em;box-sizing: border-box;text-align: center;}#sk-container-id-2 label.sk-toggleable__label-arrow:before {content: \"▸\";float: left;margin-right: 0.25em;color: #696969;}#sk-container-id-2 label.sk-toggleable__label-arrow:hover:before {color: black;}#sk-container-id-2 div.sk-estimator:hover label.sk-toggleable__label-arrow:before {color: black;}#sk-container-id-2 div.sk-toggleable__content {max-height: 0;max-width: 0;overflow: hidden;text-align: left;background-color: #f0f8ff;}#sk-container-id-2 div.sk-toggleable__content pre {margin: 0.2em;color: black;border-radius: 0.25em;background-color: #f0f8ff;}#sk-container-id-2 input.sk-toggleable__control:checked~div.sk-toggleable__content {max-height: 200px;max-width: 100%;overflow: auto;}#sk-container-id-2 input.sk-toggleable__control:checked~label.sk-toggleable__label-arrow:before {content: \"▾\";}#sk-container-id-2 div.sk-estimator input.sk-toggleable__control:checked~label.sk-toggleable__label {background-color: #d4ebff;}#sk-container-id-2 div.sk-label input.sk-toggleable__control:checked~label.sk-toggleable__label {background-color: #d4ebff;}#sk-container-id-2 input.sk-hidden--visually {border: 0;clip: rect(1px 1px 1px 1px);clip: rect(1px, 1px, 1px, 1px);height: 1px;margin: -1px;overflow: hidden;padding: 0;position: absolute;width: 1px;}#sk-container-id-2 div.sk-estimator {font-family: monospace;background-color: #f0f8ff;border: 1px dotted black;border-radius: 0.25em;box-sizing: border-box;margin-bottom: 0.5em;}#sk-container-id-2 div.sk-estimator:hover {background-color: #d4ebff;}#sk-container-id-2 div.sk-parallel-item::after {content: \"\";width: 100%;border-bottom: 1px solid gray;flex-grow: 1;}#sk-container-id-2 div.sk-label:hover label.sk-toggleable__label {background-color: #d4ebff;}#sk-container-id-2 div.sk-serial::before {content: \"\";position: absolute;border-left: 1px solid gray;box-sizing: border-box;top: 0;bottom: 0;left: 50%;z-index: 0;}#sk-container-id-2 div.sk-serial {display: flex;flex-direction: column;align-items: center;background-color: white;padding-right: 0.2em;padding-left: 0.2em;position: relative;}#sk-container-id-2 div.sk-item {position: relative;z-index: 1;}#sk-container-id-2 div.sk-parallel {display: flex;align-items: stretch;justify-content: center;background-color: white;position: relative;}#sk-container-id-2 div.sk-item::before, #sk-container-id-2 div.sk-parallel-item::before {content: \"\";position: absolute;border-left: 1px solid gray;box-sizing: border-box;top: 0;bottom: 0;left: 50%;z-index: -1;}#sk-container-id-2 div.sk-parallel-item {display: flex;flex-direction: column;z-index: 1;position: relative;background-color: white;}#sk-container-id-2 div.sk-parallel-item:first-child::after {align-self: flex-end;width: 50%;}#sk-container-id-2 div.sk-parallel-item:last-child::after {align-self: flex-start;width: 50%;}#sk-container-id-2 div.sk-parallel-item:only-child::after {width: 0;}#sk-container-id-2 div.sk-dashed-wrapped {border: 1px dashed gray;margin: 0 0.4em 0.5em 0.4em;box-sizing: border-box;padding-bottom: 0.4em;background-color: white;}#sk-container-id-2 div.sk-label label {font-family: monospace;font-weight: bold;display: inline-block;line-height: 1.2em;}#sk-container-id-2 div.sk-label-container {text-align: center;}#sk-container-id-2 div.sk-container {/* jupyter's `normalize.less` sets `[hidden] { display: none; }` but bootstrap.min.css set `[hidden] { display: none !important; }` so we also need the `!important` here to be able to override the default hidden behavior on the sphinx rendered scikit-learn.org. See: https://github.com/scikit-learn/scikit-learn/issues/21755 */display: inline-block !important;position: relative;}#sk-container-id-2 div.sk-text-repr-fallback {display: none;}</style><div id=\"sk-container-id-2\" class=\"sk-top-container\"><div class=\"sk-text-repr-fallback\"><pre>ExtraTreesRegressor(bootstrap=False, ccp_alpha=0.0, criterion=&#x27;squared_error&#x27;,\n                    max_depth=None, max_features=1.0, max_leaf_nodes=None,\n                    max_samples=None, min_impurity_decrease=0.0,\n                    min_samples_leaf=1, min_samples_split=2,\n                    min_weight_fraction_leaf=0.0, n_estimators=100, n_jobs=None,\n                    oob_score=False, random_state=None, verbose=0,\n                    warm_start=False)</pre><b>In a Jupyter environment, please rerun this cell to show the HTML representation or trust the notebook. <br />On GitHub, the HTML representation is unable to render, please try loading this page with nbviewer.org.</b></div><div class=\"sk-container\" hidden><div class=\"sk-item\"><div class=\"sk-estimator sk-toggleable\"><input class=\"sk-toggleable__control sk-hidden--visually\" id=\"sk-estimator-id-2\" type=\"checkbox\" checked><label for=\"sk-estimator-id-2\" class=\"sk-toggleable__label sk-toggleable__label-arrow\">ExtraTreesRegressor</label><div class=\"sk-toggleable__content\"><pre>ExtraTreesRegressor(bootstrap=False, ccp_alpha=0.0, criterion=&#x27;squared_error&#x27;,\n                    max_depth=None, max_features=1.0, max_leaf_nodes=None,\n                    max_samples=None, min_impurity_decrease=0.0,\n                    min_samples_leaf=1, min_samples_split=2,\n                    min_weight_fraction_leaf=0.0, n_estimators=100, n_jobs=None,\n                    oob_score=False, random_state=None, verbose=0,\n                    warm_start=False)</pre></div></div></div></div></div>"
     },
     "execution_count": 41,
     "metadata": {},
     "output_type": "execute_result"
    }
   ],
   "source": [
    "reg = ExtraTreesRegressor()\n",
    "reg.fit(X_train,Y_train)"
   ],
   "metadata": {
    "collapsed": false
   }
  },
  {
   "cell_type": "code",
   "execution_count": 42,
   "outputs": [
    {
     "data": {
      "text/plain": "array([18.41773615, 18.40503179, 17.82148122, ..., 15.89173015,\n       18.09655906, 18.36460605])"
     },
     "execution_count": 42,
     "metadata": {},
     "output_type": "execute_result"
    }
   ],
   "source": [
    "Y_pred = reg.predict(X_test)\n",
    "Y_pred"
   ],
   "metadata": {
    "collapsed": false
   }
  },
  {
   "cell_type": "code",
   "execution_count": 43,
   "outputs": [
    {
     "data": {
      "text/plain": "0.9996513450306402"
     },
     "execution_count": 43,
     "metadata": {},
     "output_type": "execute_result"
    }
   ],
   "source": [
    "r2_score(Y_pred,Y_test)"
   ],
   "metadata": {
    "collapsed": false
   }
  },
  {
   "cell_type": "code",
   "execution_count": null,
   "outputs": [],
   "source": [],
   "metadata": {
    "collapsed": false
   }
  }
 ],
 "metadata": {
  "kernelspec": {
   "display_name": "Python 3",
   "language": "python",
   "name": "python3"
  },
  "language_info": {
   "codemirror_mode": {
    "name": "ipython",
    "version": 2
   },
   "file_extension": ".py",
   "mimetype": "text/x-python",
   "name": "python",
   "nbconvert_exporter": "python",
   "pygments_lexer": "ipython2",
   "version": "2.7.6"
  }
 },
 "nbformat": 4,
 "nbformat_minor": 0
}
